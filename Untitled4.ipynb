{
 "cells": [
  {
   "cell_type": "markdown",
   "id": "c54fc090",
   "metadata": {},
   "source": [
    "# Exploring Data Science Tools and Techniques"
   ]
  },
  {
   "cell_type": "markdown",
   "id": "e066dc27",
   "metadata": {},
   "source": [
    "## Introduction\n",
    "Welcome to this exploration of data science tools and languages using Jupyterlite Notebook! This notebook aims to provide an overview of the various tools, languages, and libraries frequently used in the realm of data science."
   ]
  },
  {
   "cell_type": "markdown",
   "id": "b43231b7",
   "metadata": {},
   "source": [
    "## Data Science Languages\n",
    "- Python\n",
    "- R\n",
    "- SQL"
   ]
  },
  {
   "cell_type": "markdown",
   "id": "9072c963",
   "metadata": {},
   "source": [
    "## Data Science Libraries\n",
    "- Pandas\n",
    "- NumPy\n",
    "- Matplotlib\n",
    "- Scikit-learn"
   ]
  },
  {
   "cell_type": "markdown",
   "id": "c7aaf386",
   "metadata": {},
   "source": [
    "## Data Science Tools\n",
    "| Tool            | Description                             |\n",
    "|---------------- |-----------------------------------------|\n",
    "| Jupyter Notebook| Interactive computing environment       |\n",
    "| TensorFlow      | Open-source machine learning framework  |\n",
    "| Tableau         | Data visualization tool                 |\n",
    "\n"
   ]
  },
  {
   "cell_type": "markdown",
   "id": "839bd31a",
   "metadata": {},
   "source": [
    "## Arithmetic Expression Examples\n",
    "In this section, we'll explore simple arithmetic operations using Python."
   ]
  },
  {
   "cell_type": "code",
   "execution_count": 2,
   "id": "7b956b33",
   "metadata": {},
   "outputs": [
    {
     "name": "stdout",
     "output_type": "stream",
     "text": [
      "Multiplication result: 40\n",
      "Addition result: 13\n"
     ]
    }
   ],
   "source": [
    "# Multiplication and addition\n",
    "result_multiply = 5 * 8\n",
    "result_addition = 5 + 8\n",
    "print(\"Multiplication result:\", result_multiply)\n",
    "print(\"Addition result:\", result_addition)"
   ]
  },
  {
   "cell_type": "markdown",
   "id": "d65bfda7",
   "metadata": {},
   "source": [
    "## Objectives\n",
    "- Introduce common data science languages and libraries\n",
    "- Explore basic arithmetic operations in Python\n",
    "- Showcase conversion methods within data science"
   ]
  },
  {
   "cell_type": "markdown",
   "id": "55f1c467",
   "metadata": {},
   "source": [
    "## Author\n",
    "- Reykal"
   ]
  }
 ],
 "metadata": {
  "kernelspec": {
   "display_name": "Python 3 (ipykernel)",
   "language": "python",
   "name": "python3"
  },
  "language_info": {
   "codemirror_mode": {
    "name": "ipython",
    "version": 3
   },
   "file_extension": ".py",
   "mimetype": "text/x-python",
   "name": "python",
   "nbconvert_exporter": "python",
   "pygments_lexer": "ipython3",
   "version": "3.11.1"
  }
 },
 "nbformat": 4,
 "nbformat_minor": 5
}
