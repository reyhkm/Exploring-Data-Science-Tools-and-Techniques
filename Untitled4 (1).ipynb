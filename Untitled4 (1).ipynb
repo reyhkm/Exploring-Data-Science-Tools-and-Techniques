{
 "cells": [
  {
   "cell_type": "markdown",
   "id": "cc2e7c82",
   "metadata": {},
   "source": [
    "# Exploring Data Science Tools and Techniques"
   ]
  },
  {
   "cell_type": "markdown",
   "id": "276b23ff",
   "metadata": {},
   "source": [
    "## Introduction\n",
    "Welcome to this exploration of data science tools and languages using Jupyterlite Notebook! This notebook aims to provide an overview of the various tools, languages, and libraries frequently used in the realm of data science."
   ]
  },
  {
   "cell_type": "markdown",
   "id": "92ca1ed2",
   "metadata": {},
   "source": [
    "## Data Science Languages\n",
    "- Python\n",
    "- R\n",
    "- SQL"
   ]
  },
  {
   "cell_type": "markdown",
   "id": "5af9690e",
   "metadata": {},
   "source": [
    "## Data Science Libraries\n",
    "- Pandas\n",
    "- NumPy\n",
    "- Matplotlib\n",
    "- Scikit-learn"
   ]
  },
  {
   "cell_type": "markdown",
   "id": "45d69340",
   "metadata": {},
   "source": [
    "## Data Science Tools\n",
    "| Tool            | Description                             |\n",
    "|---------------- |-----------------------------------------|\n",
    "| Jupyter Notebook| Interactive computing environment       |\n",
    "| TensorFlow      | Open-source machine learning framework  |\n",
    "| Tableau         | Data visualization tool                 |\n",
    "\n"
   ]
  },
  {
   "cell_type": "markdown",
   "id": "17c821d1",
   "metadata": {},
   "source": [
    "## Arithmetic Expression Examples\n",
    "In this section, we'll explore simple arithmetic operations using Python."
   ]
  },
  {
   "cell_type": "code",
   "execution_count": 4,
   "id": "bbd13267",
   "metadata": {},
   "outputs": [
    {
     "name": "stdout",
     "output_type": "stream",
     "text": [
      "Multiplication result: 40\n",
      "Addition result: 13\n"
     ]
    }
   ],
   "source": [
    "# Multiplication and addition\n",
    "result_multiply = 5 * 8\n",
    "result_addition = 5 + 8\n",
    "print(\"Multiplication result:\", result_multiply)\n",
    "print(\"Addition result:\", result_addition)"
   ]
  },
  {
   "cell_type": "code",
   "execution_count": 5,
   "id": "f071805a",
   "metadata": {},
   "outputs": [
    {
     "name": "stdout",
     "output_type": "stream",
     "text": [
      "120 minutes is equal to 2.0 hours.\n"
     ]
    }
   ],
   "source": [
    "# Convert minutes to hours\n",
    "minutes = 120\n",
    "hours = minutes / 60\n",
    "print(\"120 minutes is equal to\", hours, \"hours.\")"
   ]
  },
  {
   "cell_type": "markdown",
   "id": "d1907845",
   "metadata": {},
   "source": [
    "## Objectives\n",
    "- Introduce common data science languages and libraries\n",
    "- Explore basic arithmetic operations in Python\n",
    "- Showcase conversion methods within data science"
   ]
  },
  {
   "cell_type": "markdown",
   "id": "0c9378f3",
   "metadata": {},
   "source": [
    "## Author\n",
    "- Reykal"
   ]
  }
 ],
 "metadata": {
  "kernelspec": {
   "display_name": "Python 3 (ipykernel)",
   "language": "python",
   "name": "python3"
  },
  "language_info": {
   "codemirror_mode": {
    "name": "ipython",
    "version": 3
   },
   "file_extension": ".py",
   "mimetype": "text/x-python",
   "name": "python",
   "nbconvert_exporter": "python",
   "pygments_lexer": "ipython3",
   "version": "3.11.1"
  }
 },
 "nbformat": 4,
 "nbformat_minor": 5
}
